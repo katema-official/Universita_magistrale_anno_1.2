{
  "nbformat": 4,
  "nbformat_minor": 0,
  "metadata": {
    "colab": {
      "name": "CUDA_lab2_TODO.ipynb",
      "private_outputs": true,
      "provenance": [],
      "collapsed_sections": [
        "ePkWn1Pb0PwY"
      ]
    },
    "kernelspec": {
      "name": "python3",
      "display_name": "Python 3"
    },
    "accelerator": "GPU"
  },
  "cells": [
    {
      "cell_type": "markdown",
      "metadata": {
        "id": "F9PmBZql0ow4"
      },
      "source": [
        "# ▶️ CUDA setup"
      ]
    },
    {
      "cell_type": "code",
      "metadata": {
        "id": "p9RIwaPbVQHV"
      },
      "source": [
        "!nvcc --version"
      ],
      "execution_count": null,
      "outputs": []
    },
    {
      "cell_type": "code",
      "metadata": {
        "id": "n5YlC1IOTlNb"
      },
      "source": [
        "!nvidia-smi"
      ],
      "execution_count": null,
      "outputs": []
    },
    {
      "cell_type": "markdown",
      "metadata": {
        "id": "iVV0CidyVeqU"
      },
      "source": [
        "## NVCC Plugin for Jupyter notebook\n",
        "\n",
        "*Usage*:\n",
        "\n",
        "\n",
        "*   Load Extension `%load_ext nvcc_plugin`\n",
        "*   Mark a cell to be treated as cuda cell\n",
        "`%%cuda --name example.cu --compile false`\n",
        "\n",
        "**NOTE**: The cell must contain either code or comments to be run successfully. It accepts 2 arguments. `-n | --name` - which is the name of either CUDA source or Header. The name parameter must have extension `.cu` or `.h`. Second argument -c | --compile; default value is false. The argument is a flag to specify if the cell will be compiled and run right away or not. It might be usefull if you're playing in the main function\n",
        "\n",
        "*  We are ready to run CUDA C/C++ code right in your Notebook. For this we need explicitly say to the interpreter, that we want to use the extension by adding `%%cu` at the beginning of each cell with CUDA code. \n",
        "\n",
        "\n"
      ]
    },
    {
      "cell_type": "code",
      "metadata": {
        "id": "X1EeyR1jBnWR"
      },
      "source": [
        "!pip install git+git://github.com/andreinechaev/nvcc4jupyter.git"
      ],
      "execution_count": null,
      "outputs": []
    },
    {
      "cell_type": "code",
      "metadata": {
        "id": "h7HcKDuAB-CO"
      },
      "source": [
        "%load_ext nvcc_plugin"
      ],
      "execution_count": null,
      "outputs": []
    },
    {
      "cell_type": "code",
      "source": [
        "#@title Bash setup\n",
        "%%writefile /root/.bashrc\n",
        "\n",
        "# If not running interactively, don't do anything\n",
        "[ -z \"$PS1\" ] && return\n",
        "\n",
        "# don't put duplicate lines in the history. See bash(1) for more options\n",
        "# ... or force ignoredups and ignorespace\n",
        "HISTCONTROL=ignoredups:ignorespace\n",
        "\n",
        "# append to the history file, don't overwrite it\n",
        "shopt -s histappend\n",
        "\n",
        "# for setting history length see HISTSIZE and HISTFILESIZE in bash(1)\n",
        "HISTSIZE=10000\n",
        "HISTFILESIZE=20000\n",
        "\n",
        "# check the window size after each command and, if necessary,\n",
        "# update the values of LINES and COLUMNS.\n",
        "shopt -s checkwinsize\n",
        "\n",
        "# make less more friendly for non-text input files, see lesspipe(1)\n",
        "[ -x /usr/bin/lesspipe ] && eval \"$(SHELL=/bin/sh lesspipe)\"\n",
        "\n",
        "PS1='\\[\\033[01;34m\\]\\w\\[\\033[00m\\]\\$ '\n",
        "\n",
        "# enable color support of ls and also add handy aliases\n",
        "if [ -x /usr/bin/dircolors ]; then\n",
        "    test -r ~/.dircolors && eval \"$(dircolors -b ~/.dircolors)\" || eval \"$(dircolors -b)\"\n",
        "    alias ls='ls --color=auto'\n",
        "    #alias dir='dir --color=auto'\n",
        "    #alias vdir='vdir --color=auto'\n",
        "\n",
        "    alias grep='grep --color=auto'\n",
        "    alias fgrep='fgrep --color=auto'\n",
        "    alias egrep='egrep --color=auto'\n",
        "fi\n",
        "\n",
        "# some more ls aliases\n",
        "alias ll='ls -lF'\n",
        "alias la='ls -A'\n",
        "alias l='ls -CF'\n",
        "\n",
        "# path setup\n",
        "export PATH=\"/usr/local/cuda/bin:$PATH\""
      ],
      "metadata": {
        "id": "O8ICSyy8_GEq"
      },
      "execution_count": null,
      "outputs": []
    },
    {
      "cell_type": "markdown",
      "source": [
        "# ▶️ VS Code on Colab"
      ],
      "metadata": {
        "id": "zs_a5Vuimily"
      }
    },
    {
      "cell_type": "code",
      "source": [
        "#@title Colab-ssh tunnel\n",
        "#@markdown Execute this cell to open the ssh tunnel. Check [colab-ssh documentation](https://github.com/WassimBenzarti/colab-ssh) for more details.\n",
        "\n",
        "# Install colab_ssh on google colab\n",
        "!pip install colab_ssh --upgrade\n",
        "\n",
        "from colab_ssh import launch_ssh_cloudflared, init_git_cloudflared\n",
        "ssh_tunnel_password = \"gpu\" #@param {type: \"string\"}\n",
        "launch_ssh_cloudflared(password=ssh_tunnel_password)\n",
        "\n",
        "# Optional: if you want to clone a Github or Gitlab repository\n",
        "repository_url=\"https://github.com/giulianogrossi/GPUcomputing\" #@param {type: \"string\"}\n",
        "init_git_cloudflared(repository_url)"
      ],
      "metadata": {
        "cellView": "form",
        "id": "BCf9JxqphHAp"
      },
      "execution_count": null,
      "outputs": []
    },
    {
      "cell_type": "markdown",
      "metadata": {
        "id": "neXhTBlkk7Oz"
      },
      "source": [
        "# ✅ Image flip - CPU (multithreading)"
      ]
    },
    {
      "cell_type": "code",
      "metadata": {
        "id": "Odz5XG4hlK-M"
      },
      "source": [
        "%%writefile /content/src/ImageStuff.h\n",
        "\n",
        "struct ImgProp {\n",
        "\tint Hpixels;\n",
        "\tint Vpixels;\n",
        "\tunsigned char HeaderInfo[54];\n",
        "\tunsigned long int Hbytes;\n",
        "};\n",
        "\n",
        "struct Pixel {\n",
        "\tunsigned char R;\n",
        "\tunsigned char G;\n",
        "\tunsigned char B;\n",
        "};\n",
        "\n",
        "typedef unsigned char pel;    // pixel element\n",
        "\n",
        "pel** ReadBMP(char*);         // Load a BMP image\n",
        "void WriteBMP(pel**, char*);  // Store a BMP image\n",
        "\n",
        "extern struct ImgProp ip;\n"
      ],
      "execution_count": null,
      "outputs": []
    },
    {
      "cell_type": "code",
      "metadata": {
        "id": "i3RyIntBk-bZ"
      },
      "source": [
        "%%writefile /content/src/ImageStuff.c\n",
        "\n",
        "#include <stdlib.h>\n",
        "#include <stdio.h>\n",
        "#include <time.h>\n",
        "\n",
        "#include \"ImageStuff.h\"\n",
        "\n",
        "/*\n",
        " * Load a BMP image\n",
        " */\n",
        "\n",
        "pel** ReadBMP(char* filename) {\n",
        "\tFILE* f = fopen(filename, \"rb\");\n",
        "\tif (f == NULL) {\n",
        "\t\tprintf(\"\\n\\n%s NOT FOUND\\n\\n\", filename);\n",
        "\t\texit(1);\n",
        "\t}\n",
        "\n",
        "\tpel HeaderInfo[54];\n",
        "\tfread(HeaderInfo, sizeof(pel), 54, f); // read the 54-byte header\n",
        "\n",
        "\t// extract image height and width from header\n",
        "\tint width = *(int*) &HeaderInfo[18];\n",
        "\tint height = *(int*) &HeaderInfo[22];\n",
        "\n",
        "\t//copy header for re-use\n",
        "\tfor (unsigned int i = 0; i < 54; i++)\n",
        "\t\tip.HeaderInfo[i] = HeaderInfo[i];\n",
        "\n",
        "\tip.Vpixels = height;\n",
        "\tip.Hpixels = width;\n",
        "\tint RowBytes = (width * 3 + 3) & (~3);\n",
        "\tip.Hbytes = RowBytes;\n",
        "\n",
        "\tprintf(\"\\n   Input BMP File name: %20s  (%u x %u)\", filename, ip.Hpixels, ip.Vpixels);\n",
        "\n",
        "\tpel tmp;\n",
        "\tpel **TheImage = (pel **) malloc(height * sizeof(pel*));\n",
        "\tfor (unsigned int i = 0; i < height; i++)\n",
        "\t\tTheImage[i] = (pel *) malloc(RowBytes * sizeof(pel));\n",
        "\n",
        "\tfor (unsigned int i = 0; i < height; i++)\n",
        "\t\tfread(TheImage[i], sizeof(unsigned char), RowBytes, f);\n",
        "\n",
        "\tfclose(f);\n",
        "\treturn TheImage;  // remember to free() it in caller!\n",
        "}\n",
        "\n",
        "/*\n",
        " * Store a BMP image\n",
        " */\n",
        "void WriteBMP(pel** img, char* filename) {\n",
        "\tFILE* f = fopen(filename, \"wb\");\n",
        "\tif (f == NULL) {\n",
        "\t\tprintf(\"\\n\\nFILE CREATION ERROR: %s\\n\\n\", filename);\n",
        "\t\texit(1);\n",
        "\t}\n",
        "\n",
        "\t//write header\n",
        "\tfor (unsigned int x = 0; x < 54; x++)\n",
        "\t\tfputc(ip.HeaderInfo[x], f);\n",
        "\n",
        "\t//write data\n",
        "\tfor (unsigned int x = 0; x < ip.Vpixels; x++)\n",
        "\t\tfor (unsigned int y = 0; y < ip.Hbytes; y++) {\n",
        "\t\t\tchar temp = img[x][y];\n",
        "\t\t\tfputc(temp, f);\n",
        "\t\t}\n",
        "\n",
        "\tprintf(\"\\n  Output BMP File name: %20s  (%u x %u)\", filename, ip.Hpixels,\n",
        "\t\t\tip.Vpixels);\n",
        "\n",
        "\tfclose(f);\n",
        "}"
      ],
      "execution_count": null,
      "outputs": []
    },
    {
      "cell_type": "code",
      "metadata": {
        "id": "6HoqoJMiv1dT"
      },
      "source": [
        "%%writefile /content/src/Imflip.c\n",
        "\n",
        "#include <stdlib.h>\n",
        "#include <stdio.h>\n",
        "#include <time.h>\n",
        "\n",
        "#include \"ImageStuff.h\"\n",
        "\n",
        "struct ImgProp ip;\n",
        "\n",
        "pel** FlipImageV(pel** img) {\n",
        "\tstruct Pixel pix; //temp swap pixel\n",
        "\tint row, col;\n",
        "\n",
        "\t//vertical flip\n",
        "\tfor (col = 0; col < ip.Hbytes; col += 3) {\n",
        "\t\trow = 0;\n",
        "\t\twhile (row < ip.Vpixels / 2) {\n",
        "\t\t\tpix.B = img[row][col];\n",
        "\t\t\tpix.G = img[row][col + 1];\n",
        "\t\t\tpix.R = img[row][col + 2];\n",
        "\n",
        "\t\t\timg[row][col] = img[ip.Vpixels - (row + 1)][col];\n",
        "\t\t\timg[row][col + 1] = img[ip.Vpixels - (row + 1)][col + 1];\n",
        "\t\t\timg[row][col + 2] = img[ip.Vpixels - (row + 1)][col + 2];\n",
        "\n",
        "\t\t\timg[ip.Vpixels - (row + 1)][col] = pix.B;\n",
        "\t\t\timg[ip.Vpixels - (row + 1)][col + 1] = pix.G;\n",
        "\t\t\timg[ip.Vpixels - (row + 1)][col + 2] = pix.R;\n",
        "\n",
        "\t\t\trow++;\n",
        "\t\t}\n",
        "\t}\n",
        "\treturn img;\n",
        "}\n",
        "\n",
        "pel** FlipImageH(pel** img) {\n",
        "\tstruct Pixel pix; //temp swap pixel\n",
        "\tint row, col;\n",
        "\n",
        "\t//horizontal flip\n",
        "\tfor (row = 0; row < ip.Vpixels; row++) {\n",
        "\t\tcol = 0;\n",
        "\t\twhile (col < (ip.Hpixels * 3) / 2) {\n",
        "\t\t\tpix.B = img[row][col];\n",
        "\t\t\tpix.G = img[row][col + 1];\n",
        "\t\t\tpix.R = img[row][col + 2];\n",
        "\n",
        "\t\t\timg[row][col] = img[row][ip.Hpixels * 3 - (col + 3)];\n",
        "\t\t\timg[row][col + 1] = img[row][ip.Hpixels * 3 - (col + 2)];\n",
        "\t\t\timg[row][col + 2] = img[row][ip.Hpixels * 3 - (col + 1)];\n",
        "\n",
        "\t\t\timg[row][ip.Hpixels * 3 - (col + 3)] = pix.B;\n",
        "\t\t\timg[row][ip.Hpixels * 3 - (col + 2)] = pix.G;\n",
        "\t\t\timg[row][ip.Hpixels * 3 - (col + 1)] = pix.R;\n",
        "\n",
        "\t\t\tcol += 3;\n",
        "\t\t}\n",
        "\t}\n",
        "\treturn img;\n",
        "}\n",
        "\n",
        "int main(int argc, char** argv) {\n",
        "\tif (argc != 4) {\n",
        "\t\tprintf(\"\\n\\nUsage: imflip [input] [output] [V | H]\");\n",
        "\t\tprintf(\"\\n\\nExample: imflip square.bmp square_h.bmp h\\n\\n\");\n",
        "\t\treturn 0;\n",
        "\t}\n",
        "\n",
        "\tpel** data = ReadBMP(argv[1]);\n",
        "\tdouble timer;\n",
        "\tunsigned int a;\n",
        "\tclock_t start, stop;\n",
        "\n",
        "\tstart = clock();\n",
        "\tswitch (argv[3][0]) {\n",
        "\tcase 'v':\n",
        "\tcase 'V':\n",
        "\t\tdata = FlipImageV(data);\n",
        "\t\tbreak;\n",
        "\tcase 'h':\n",
        "\tcase 'H':\n",
        "\t\tdata = FlipImageH(data);\n",
        "\t\tbreak;\n",
        "\tdefault:\n",
        "\t\tprintf(\"\\nINVALID OPTION\\n\");\n",
        "\t\treturn 0;\n",
        "\t}\n",
        "\tstop = clock();\n",
        "\ttimer = ((double)(stop-start))/(double)CLOCKS_PER_SEC;\n",
        "\n",
        "\t// merge with header and write to file\n",
        "\tWriteBMP(data, argv[2]);\n",
        "\n",
        "\t// free() the allocated memory for the image\n",
        "\tfor (int i = 0; i < ip.Vpixels; i++)\n",
        "\t\tfree(data[i]);\n",
        "\tfree(data);\n",
        "\n",
        "\tprintf(\"\\n\\nTotal execution time: %9.4f sec\", timer);\n",
        "\tprintf(\" (%7.3f ns per pixel)\\n\", 1000000 * timer / (double) (ip.Hpixels * ip.Vpixels));\n",
        "\n",
        "\treturn 0;\n",
        "}"
      ],
      "execution_count": null,
      "outputs": []
    },
    {
      "cell_type": "code",
      "metadata": {
        "id": "kXohHkwYwcN9"
      },
      "source": [
        "!gcc src/ImageStuff.c src/Imflip.c -o imflip "
      ],
      "execution_count": null,
      "outputs": []
    },
    {
      "cell_type": "code",
      "metadata": {
        "id": "VeE8qngwxTqh"
      },
      "source": [
        "!./imflip /content/dog.bmp dogV.bmp V\n",
        "!./imflip /content/dog.bmp dogH.bmp H"
      ],
      "execution_count": null,
      "outputs": []
    },
    {
      "cell_type": "markdown",
      "metadata": {
        "id": "AZZTbmBBGDf9"
      },
      "source": [
        "Librerie python per lettura/scrittura file di immagini e loro display: [openCV](https://docs.opencv.org/master/index.html) e [matplotlib](https://matplotlib.org/). Le immagini vengono rappresentate come array multidimensionali tratti dalla libreria fondamentale per il calcolo scientifico [NumPy](https://numpy.org/)"
      ]
    },
    {
      "cell_type": "code",
      "metadata": {
        "id": "JoDMZXCBxVDn"
      },
      "source": [
        "import cv2 as cv\n",
        "import numpy as np\n",
        "import matplotlib.pyplot as plt\n",
        "\n",
        "# reads as a NumPy array: row (height) x column (width) x color (3)\n",
        "dog = cv.imread('/content/dog.bmp')     \n",
        "print('Image size: ', dog.shape)\n",
        "# BGR is converted to RGB         \n",
        "dog = cv.cvtColor(dog, cv.COLOR_BGR2RGB) \n",
        "dogV = cv.imread('dogV.bmp')\n",
        "dogV = cv.cvtColor(dogV, cv.COLOR_BGR2RGB)\n",
        "dogH = cv.imread('dogH.bmp')\n",
        "dogH = cv.cvtColor(dogH, cv.COLOR_BGR2RGB)\n",
        "plt.imshow(dog)\n",
        "plt.show()\n",
        "plt.imshow(dogV)\n",
        "plt.show()\n",
        "plt.imshow(dogH)\n",
        "plt.show()"
      ],
      "execution_count": null,
      "outputs": []
    },
    {
      "cell_type": "code",
      "metadata": {
        "id": "GSu3_vc0LEkm"
      },
      "source": [
        "%%writefile /content/src/ImflipPth.c\n",
        "\n",
        "#include <pthread.h>\n",
        "#include <stdint.h>\n",
        "#include <ctype.h>\n",
        "#include <stdlib.h>\n",
        "#include <stdio.h>\n",
        "#include <sys/time.h>\n",
        "#include \"ImageStuff.h\"\n",
        "\n",
        "#define MAXTHREADS   128\n",
        "\n",
        "int NumThreads;         \t\t       // Total number of threads working in parallel\n",
        "int ThParam[MAXTHREADS];\t\t       // Thread parameters ...\n",
        "pthread_t ThHandle[MAXTHREADS];\t   // Thread handles\n",
        "pthread_attr_t ThAttr;\t\t\t       // Pthread attrributes\n",
        "void (*FlipFunc)(pel** img);\t      // Function pointer to flip the image\n",
        "void* (*MTFlipFunc)(void *arg);\t   // Function pointer to flip the image, multi-threaded version\n",
        "pel** TheImage;       \t\t\t       // This is the main image\n",
        "struct ImgProp ip;\n",
        "\n",
        "// serial version\n",
        "void FlipImageV(pel** img) {\n",
        "\tstruct Pixel pix; //temp swap pixel\n",
        "\tint row, col;\n",
        "\n",
        "\t//vertical flip\n",
        "\tfor (col = 0; col < ip.Hbytes; col += 3) {\n",
        "\t\trow = 0;\n",
        "\t\twhile (row < ip.Vpixels / 2) {\n",
        "\t\t\tpix.B = img[row][col];\n",
        "\t\t\tpix.G = img[row][col + 1];\n",
        "\t\t\tpix.R = img[row][col + 2];\n",
        "\n",
        "\t\t\timg[row][col] = img[ip.Vpixels - (row + 1)][col];\n",
        "\t\t\timg[row][col + 1] = img[ip.Vpixels - (row + 1)][col + 1];\n",
        "\t\t\timg[row][col + 2] = img[ip.Vpixels - (row + 1)][col + 2];\n",
        "\n",
        "\t\t\timg[ip.Vpixels - (row + 1)][col] = pix.B;\n",
        "\t\t\timg[ip.Vpixels - (row + 1)][col + 1] = pix.G;\n",
        "\t\t\timg[ip.Vpixels - (row + 1)][col + 2] = pix.R;\n",
        "\n",
        "\t\t\trow++;\n",
        "\t\t}\n",
        "\t}\n",
        "}\n",
        "\n",
        "void FlipImageH(pel** img) {\n",
        "\n",
        "\t// TODO\n",
        "}\n",
        "\n",
        "void *MTFlipV(void* tid) {\n",
        "\tstruct Pixel pix; //temp swap pixel\n",
        "\tint row, col;\n",
        "\n",
        "\tlong ts = *((int *) tid);                 \t// My thread ID is stored here\n",
        "\tts *= ip.Hbytes / NumThreads;               // start index\n",
        "\tlong te = ts + ip.Hbytes / NumThreads - 1; \t// end index\n",
        "\n",
        "\tfor (col = ts; col <= te; col += 3) {\n",
        "\t\trow = 0;\n",
        "\t\twhile (row < ip.Vpixels / 2) {\n",
        "\t\t\tpix.B = TheImage[row][col];\n",
        "\t\t\tpix.G = TheImage[row][col + 1];\n",
        "\t\t\tpix.R = TheImage[row][col + 2];\n",
        "\n",
        "\t\t\tTheImage[row][col] = TheImage[ip.Vpixels - (row + 1)][col];\n",
        "\t\t\tTheImage[row][col + 1] = TheImage[ip.Vpixels - (row + 1)][col + 1];\n",
        "\t\t\tTheImage[row][col + 2] = TheImage[ip.Vpixels - (row + 1)][col + 2];\n",
        "\n",
        "\t\t\tTheImage[ip.Vpixels - (row + 1)][col] = pix.B;\n",
        "\t\t\tTheImage[ip.Vpixels - (row + 1)][col + 1] = pix.G;\n",
        "\t\t\tTheImage[ip.Vpixels - (row + 1)][col + 2] = pix.R;\n",
        "\n",
        "\t\t\trow++;\n",
        "\t\t}\n",
        "\t}\n",
        "\tpthread_exit(0);\n",
        "}\n",
        "\n",
        "// multi-threaded version\n",
        "void *MTFlipH(void* tid) {\n",
        "\tstruct Pixel pix; //temp swap pixel\n",
        "\tint row, col;\n",
        "\n",
        "\tlong ts = *((int *) tid);       \t// My thread ID is stored here\n",
        "\tts *= ip.Vpixels / NumThreads;\t\t\t// start index\n",
        "\tlong te = ts + ip.Vpixels / NumThreads - 1; \t// end index\n",
        "\n",
        "\tfor (row = ts; row <= te; row++) {\n",
        "\t\tcol = 0;\n",
        "\t\twhile (col < ip.Hpixels * 3 / 2) {\n",
        "\t\t\tpix.B = TheImage[row][col];\n",
        "\t\t\tpix.G = TheImage[row][col + 1];\n",
        "\t\t\tpix.R = TheImage[row][col + 2];\n",
        "\n",
        "\t\t\tTheImage[row][col] = TheImage[row][ip.Hpixels * 3 - (col + 3)];\n",
        "\t\t\tTheImage[row][col + 1] = TheImage[row][ip.Hpixels * 3 - (col + 2)];\n",
        "\t\t\tTheImage[row][col + 2] = TheImage[row][ip.Hpixels * 3 - (col + 1)];\n",
        "\n",
        "\t\t\tTheImage[row][ip.Hpixels * 3 - (col + 3)] = pix.B;\n",
        "\t\t\tTheImage[row][ip.Hpixels * 3 - (col + 2)] = pix.G;\n",
        "\t\t\tTheImage[row][ip.Hpixels * 3 - (col + 1)] = pix.R;\n",
        "\n",
        "\t\t\tcol += 3;\n",
        "\t\t}\n",
        "\t}\n",
        "\tpthread_exit(NULL);\n",
        "}\n",
        "\n",
        "int main(int argc, char** argv) {\n",
        "\tchar Flip;\n",
        "\tint a, i, ThErr;\n",
        "\tstruct timeval t;\n",
        "\tdouble StartTime, EndTime;\n",
        "\tdouble TimeElapsed;\n",
        "\n",
        "\tswitch (argc) {\n",
        "\tcase 3:\n",
        "\t\tNumThreads = 1;\n",
        "\t\tFlip = 'V';\n",
        "\t\tbreak;\n",
        "\tcase 4:\n",
        "\t\tNumThreads = 1;\n",
        "\t\tFlip = toupper(argv[3][0]);\n",
        "\t\tbreak;\n",
        "\tcase 5:\n",
        "\t\tNumThreads = atoi(argv[4]);\n",
        "\t\tFlip = toupper(argv[3][0]);\n",
        "\t\tbreak;\n",
        "\tdefault:\n",
        "\t\tprintf(\"\\n\\nUsage: imflipP input output [v/h] [thread count]\");\n",
        "\t\tprintf(\"\\n\\nExample: imflipP infilename.bmp outname.bmp h 8\\n\\n\");\n",
        "\t\treturn 0;\n",
        "\t}\n",
        "\n",
        "  if (NumThreads != 1) {\n",
        "    printf(\"\\nExecuting the multi-threaded version with %d threads ...\\n\",NumThreads);\n",
        "    MTFlipFunc = (Flip == 'V') ? MTFlipV : MTFlipH;\n",
        "  } else {\n",
        "    printf(\"\\nExecuting the serial version ...\\n\");\n",
        "    FlipFunc = (Flip == 'V') ? FlipImageV : FlipImageH;\n",
        "  }\n",
        "\t\n",
        "\n",
        "\t// load image\n",
        "\tTheImage = ReadBMP(argv[1]);\n",
        "\n",
        "\tgettimeofday(&t, NULL);\n",
        "\tStartTime = (double) t.tv_sec * 1000000.0 + ((double) t.tv_usec);\n",
        "\n",
        "\tif (NumThreads > 1) {\n",
        "\t\tpthread_attr_init(&ThAttr);\n",
        "\t\tpthread_attr_setdetachstate(&ThAttr, PTHREAD_CREATE_JOINABLE);\n",
        "    for (i = 0; i < NumThreads; i++) {\n",
        "      ThParam[i] = i;\n",
        "      ThErr = pthread_create(&ThHandle[i], &ThAttr, MTFlipFunc, (void *) &ThParam[i]);\n",
        "      if (ThErr != 0) {\n",
        "        printf(\"\\nThread Creation Error %d. Exiting abruptly... \\n\", ThErr);\n",
        "        exit(EXIT_FAILURE);\n",
        "      }\n",
        "    }\n",
        "    pthread_attr_destroy(&ThAttr);\n",
        "    for (i = 0; i < NumThreads; i++) {\n",
        "      pthread_join(ThHandle[i], NULL);\n",
        "    }\n",
        "\t} else\n",
        "\t\t(*FlipFunc)(TheImage);\n",
        "\n",
        "\tgettimeofday(&t, NULL);\n",
        "\tEndTime = (double) t.tv_sec * 1000000.0 + ((double) t.tv_usec);\n",
        "\tTimeElapsed = (EndTime - StartTime) / 1000000.00;\n",
        "\n",
        "\t//merge with header and write to file\n",
        "\tWriteBMP(TheImage, argv[2]);\n",
        "\n",
        "\t// free() the allocated memory for the image\n",
        "\tfor (i = 0; i < ip.Vpixels; i++) {\n",
        "\t\tfree(TheImage[i]);\n",
        "\t}\n",
        "\tfree(TheImage);\n",
        "\n",
        "\tprintf(\"\\n\\nTotal execution time: %9.4f sec (%s flip)\", TimeElapsed,\n",
        "\t\t\tFlip == 'V' ? \"Vertical\" : \"Horizontal\");\n",
        "\tprintf(\" (%6.3f ns/pixel)\\n\",\n",
        "\t\t\t1000000 * TimeElapsed / (double) (ip.Hpixels * ip.Vpixels));\n",
        "\n",
        "\treturn (EXIT_SUCCESS);\n",
        "}"
      ],
      "execution_count": null,
      "outputs": []
    },
    {
      "cell_type": "code",
      "metadata": {
        "id": "9063PaN3Myis"
      },
      "source": [
        "!gcc -o imflip src/ImageStuff.c src/ImflipPth.c -pthread"
      ],
      "execution_count": null,
      "outputs": []
    },
    {
      "cell_type": "code",
      "metadata": {
        "id": "oY2P919nOy9q"
      },
      "source": [
        "!./imflip /content/julia_jet.bmp julia_jetV.bmp V 1"
      ],
      "execution_count": null,
      "outputs": []
    },
    {
      "cell_type": "code",
      "source": [
        "import cv2 as cv\n",
        "import numpy as np\n",
        "import matplotlib.pyplot as plt\n",
        "\n",
        "# reads as a NumPy array: row (height) x column (width) x color (3)\n",
        "julia_jet = cv.imread('/content/drive/MyDrive/images/julia_jet.bmp')     \n",
        "print('Image size: ', julia_jet.shape)\n",
        "# BGR is converted to RGB         \n",
        "julia_jet = cv.cvtColor(julia_jet, cv.COLOR_BGR2RGB) \n",
        "julia_jetV = cv.imread('julia_jetV.bmp')\n",
        "julia_jetV = cv.cvtColor(julia_jetV, cv.COLOR_BGR2RGB)\n",
        "plt.imshow(julia_jet)\n",
        "plt.show()\n",
        "plt.imshow(julia_jetV)\n",
        "plt.show()\n"
      ],
      "metadata": {
        "id": "Kxeiv3nXr965"
      },
      "execution_count": null,
      "outputs": []
    },
    {
      "cell_type": "markdown",
      "source": [
        "# 🔴 TODO"
      ],
      "metadata": {
        "id": "ei1lhRSutIhG"
      }
    },
    {
      "cell_type": "markdown",
      "source": [
        "Individuare il numero di pthread che dà la prestazione migliore in termine di tempo impiegato.\n",
        "\n",
        "```\n",
        "best #ptherad = \n",
        "```"
      ],
      "metadata": {
        "id": "sO7xbrdxtK1F"
      }
    },
    {
      "cell_type": "markdown",
      "metadata": {
        "id": "5gUDpbz5TZml"
      },
      "source": [
        "# ✅ Blocks and grids"
      ]
    },
    {
      "cell_type": "code",
      "source": [
        ""
      ],
      "metadata": {
        "id": "q4j-7rVmHN48"
      },
      "execution_count": null,
      "outputs": []
    },
    {
      "cell_type": "markdown",
      "metadata": {
        "id": "Kv8Bm5Oobs8g"
      },
      "source": [
        "**Grid 1D**: stampa DIMs e IDs di grid, block e thread\n"
      ]
    },
    {
      "cell_type": "code",
      "metadata": {
        "id": "RlbVvBaXCHBs"
      },
      "source": [
        "\n",
        "%%cu\n",
        "// %%writefile /content/grid.cu\n",
        "#include <stdio.h>\n",
        "\n",
        "__global__ void checkIndex(void) {\n",
        "\tprintf(\"threadIdx:(%d, %d, %d) blockIdx:(%d, %d, %d) \"\n",
        "\t\t\t\"blockDim:(%d, %d, %d) gridDim:(%d, %d, %d)\\n\",\n",
        "\t\t\tthreadIdx.x, threadIdx.y, threadIdx.z,\n",
        "\t\t\tblockIdx.x, blockIdx.y, blockIdx.z,\n",
        "\t\t\tblockDim.x, blockDim.y, blockDim.z,\n",
        "\t\t\tgridDim.x,gridDim.y,gridDim.z);\n",
        "}\n",
        "\n",
        "int main(int argc, char **argv) {\n",
        "\n",
        "\t// definisce grid e struttura dei blocchi\n",
        "\tdim3 block(4);\n",
        "\tdim3 grid(3);\n",
        "\n",
        "\t// controlla dim. dal lato host\n",
        "\tprintf(\"CHECK lato host:\\n\");\n",
        "\tprintf(\"grid.x = %d\\t grid.y = %d\\t grid.z = %d\\n\", grid.x, grid.y, grid.z);\n",
        "\tprintf(\"block.x = %d\\t block.y = %d\\t block.z %d\\n\\n\", block.x, block.y, block.z);\n",
        "\n",
        "\t// controlla dim. dal lato device\n",
        "\tprintf(\"CHECK lato device:\\n\");\n",
        "\tcheckIndex<<<grid, block>>>();\n",
        "\n",
        "\t// reset device\n",
        "\tcudaDeviceReset();\n",
        "\treturn(0);\n",
        "}"
      ],
      "execution_count": null,
      "outputs": []
    },
    {
      "cell_type": "code",
      "source": [
        "!nvcc -arch=sm_37 /content/grid.cu -o /content/grid"
      ],
      "metadata": {
        "id": "pUtg_seiHg_R"
      },
      "execution_count": null,
      "outputs": []
    },
    {
      "cell_type": "code",
      "source": [
        "!./grid"
      ],
      "metadata": {
        "id": "gYEdIsBOHLmA"
      },
      "execution_count": null,
      "outputs": []
    },
    {
      "cell_type": "markdown",
      "source": [
        "# 🔴 TODO"
      ],
      "metadata": {
        "id": "V-jbxio5Oy_Y"
      }
    },
    {
      "cell_type": "markdown",
      "metadata": {
        "id": "5Hvii50CGGfP"
      },
      "source": [
        "Definire un kernel con block 2D e grid 2D e stampare a video solo i thread la cui somma degli ID (`threadIdx.x + threadIdx.y + blockIdx.x + blockIdx.y`) è pari a un numero della sequenza di Fibonacci ([Fibonacci-wikipedia](https://it.wikipedia.org/wiki/Successione_di_Fibonacci))\n",
        "\n",
        "$\n",
        "\\begin{align}\n",
        "F_0 &= 0,\\\\\n",
        "F_1 &= 1,\\\\\n",
        "F_{n}&=F_{{n-1}}+F_{{n-2}},\\quad \\text{(per ogni $n>1$)}\n",
        "\\end{align}\n",
        "$\n"
      ]
    },
    {
      "cell_type": "code",
      "metadata": {
        "id": "4RNlS5U0adAk"
      },
      "source": [
        "%%cu\n",
        "#include <stdio.h>\n",
        "\n",
        "\n",
        "/*\n",
        " * Show DIMs & IDs for grid, block and thread\n",
        " */\n",
        "__global__ void checkIndex(void) {\n",
        " \n",
        " \tint n = threadIdx.x + threadIdx.y + blockIdx.x + blockIdx.y;\n",
        "\n",
        "\tint isfib = 0;\n",
        "\tint a = 0;\n",
        "\tint b = 1;\n",
        "\twhile(a <= n){\n",
        "\t\t\tif (n == a){\n",
        "\t\t\t\t\tisfib = 1;\n",
        "\t\t\t}\n",
        "\t\t\tint c = a+b;\n",
        "\t\t\ta = b;\n",
        "\t\t\tb = c;\n",
        "\t}\n",
        "\n",
        "\tif(isfib==1){\n",
        "\t\tprintf(\"threadIdx:(%d, %d, %d) blockIdx:(%d, %d, %d) \"\n",
        "\t\t\t\t\"blockDim:(%d, %d, %d) gridDim:(%d, %d, %d), \"\n",
        "\t\t\t\t\"the sum is %d\\n\",\n",
        "\t\t\t\tthreadIdx.x, threadIdx.y, threadIdx.z,\n",
        "\t\t\t\tblockIdx.x, blockIdx.y, blockIdx.z,\n",
        "\t\t\t\tblockDim.x, blockDim.y, blockDim.z,\n",
        "\t\t\t\tgridDim.x,gridDim.y,gridDim.z,\n",
        "\t\t\t\tn);\n",
        "\t}\n",
        " \n",
        "}\n",
        "\n",
        "int main(int argc, char **argv) {\n",
        "\n",
        "\t// grid and block structure\n",
        "\tdim3 block(10,10);\n",
        "\tdim3 grid(1,1);\n",
        "\n",
        "\t// check for host\n",
        "\tprintf(\"CHECK for host:\\n\");\n",
        "\tprintf(\"grid.x = %d\\t grid.y = %d\\t grid.z = %d\\n\", grid.x, grid.y, grid.z);\n",
        "\tprintf(\"block.x = %d\\t block.y = %d\\t block.z %d\\n\\n\", block.x, block.y, block.z);\n",
        "\n",
        "\t// check for device\n",
        "\tprintf(\"CHECK for device:\\n\");\n",
        "\tcheckIndex<<<grid, block>>>();\n",
        "\n",
        "\t// reset device\n",
        "\tcudaDeviceReset();\n",
        "\treturn (0);\n",
        "}"
      ],
      "execution_count": null,
      "outputs": []
    },
    {
      "cell_type": "markdown",
      "metadata": {
        "id": "VvOoerr-DqRy"
      },
      "source": [
        "# ✅ Image fplip - GPU"
      ]
    },
    {
      "cell_type": "code",
      "metadata": {
        "id": "LURPSmQdUT8J"
      },
      "source": [
        "%%writefile /content/src/bmpUtil.h\n",
        "\n",
        "#ifndef _BPMUTIL_H\n",
        "#define _BPMUTIL_H\n",
        "\n",
        "struct imgBMP {\n",
        "\tint width;\n",
        "\tint height;\n",
        "\tunsigned char headInfo[54];\n",
        "\tunsigned long int rowByte;\n",
        "} img;\n",
        "\n",
        "#define\tWIDTHB\t\timg.rowByte\n",
        "#define\tWIDTH\t\t  img.width\n",
        "#define\tHEIGHT\t\timg.height\n",
        "#define\tIMAGESIZE\t(WIDTHB*HEIGHT)\n",
        "\n",
        "struct pixel {\n",
        "\tunsigned char R;\n",
        "\tunsigned char G;\n",
        "\tunsigned char B;\n",
        "};\n",
        "\n",
        "typedef unsigned long ulong;\n",
        "typedef unsigned int uint;\n",
        "typedef unsigned char pel;    // pixel element\n",
        "\n",
        "pel *ReadBMPlin(char*);         // Load a BMP image\n",
        "void WriteBMPlin(pel *, char*); // Store a BMP image\n",
        "\n",
        "#endif"
      ],
      "execution_count": null,
      "outputs": []
    },
    {
      "cell_type": "code",
      "metadata": {
        "id": "7MF1-OI0UnEK"
      },
      "source": [
        "%%writefile /content/src/common.h\n",
        "\n",
        "#include <sys/time.h>\n",
        "\n",
        "#ifndef _COMMON_H\n",
        "#define _COMMON_H\n",
        "\n",
        "#define CHECK(call)                                                            \\\n",
        "{                                                                              \\\n",
        "    const cudaError_t error = call;                                            \\\n",
        "    if (error != cudaSuccess)                                                  \\\n",
        "    {                                                                          \\\n",
        "        fprintf(stderr, \"Error: %s:%d, \", __FILE__, __LINE__);                 \\\n",
        "        fprintf(stderr, \"code: %d, reason: %s\\n\", error,                       \\\n",
        "                cudaGetErrorString(error));                                    \\\n",
        "    }                                                                          \\\n",
        "}\n",
        "\n",
        "inline double seconds() {\n",
        "    struct timeval tp;\n",
        "    struct timezone tzp;\n",
        "    int i = gettimeofday(&tp, &tzp);\n",
        "    return ((double)tp.tv_sec + (double)tp.tv_usec * 1.e-6);\n",
        "}\n",
        "\n",
        "inline void device_name() {\n",
        "    // set up device\n",
        "    int dev = 0;\n",
        "    cudaDeviceProp deviceProp;\n",
        "    CHECK(cudaGetDeviceProperties(&deviceProp, dev));\n",
        "    printf(\"device %d: %s\\n\", dev, deviceProp.name);\n",
        "    CHECK(cudaSetDevice(dev));\n",
        "}\n",
        "\n",
        "#endif\n"
      ],
      "execution_count": null,
      "outputs": []
    },
    {
      "cell_type": "markdown",
      "source": [
        "# 🔴 TODO"
      ],
      "metadata": {
        "id": "mqvAdVX8Nkr8"
      }
    },
    {
      "cell_type": "code",
      "metadata": {
        "id": "ZlGAr3KVB6Dw"
      },
      "source": [
        "%%writefile /content/src/ImgFlipCUDA.cu\n",
        "\n",
        "#include <stdio.h>\n",
        "#include <stdlib.h>\n",
        "#include \"bmpUtil.h\"\n",
        "#include \"common.h\"\n",
        "\n",
        "/*\n",
        " * Kernel 1D that flips the given image vertically\n",
        " * each thread only flips a single pixel (R,G,B)\n",
        " */\n",
        "__global__ void VflipGPU(pel *imgDst, const pel *imgSrc, const uint w, const uint h) {\n",
        "\t \n",
        "\t\tint row_block = (w + blockDim.x - 1) / blockDim.x;\t//numero di blocchi per riga\n",
        "\t\tint thread_in_block = blockDim.x;\t//numero di thread in ogni blocco\n",
        "\n",
        "\t\t//cerchiamo la x del pixel, ovvero del thread\n",
        "\t\tint x = (blockIdx.x % row_block) * thread_in_block + threadIdx.x;\n",
        "\t  int y = (blockIdx.x / row_block);\n",
        "\t\tint true_index = y * thread_in_block * 3 * row_block + x*3;\n",
        "\t\tint altro_y = h - 1 - y;\n",
        "\t\tint altro_true_index = altro_y * thread_in_block * 3 * row_block + x*3;\n",
        "\t\t\n",
        "\t\t\timgDst[true_index] = imgSrc[altro_true_index];\n",
        "\t\t\timgDst[true_index+1] = imgSrc[altro_true_index+1];\n",
        "\t\t\timgDst[true_index+2] = imgSrc[altro_true_index+2];\n",
        "\t\t\t\n",
        "\n",
        "\t\t\timgDst[altro_true_index] = imgSrc[true_index];\n",
        "\t\t\timgDst[altro_true_index+1] = imgSrc[true_index+1];\n",
        "\t\t\timgDst[altro_true_index+2] = imgSrc[true_index+2];\n",
        "\t\t\n",
        "\t\t\n",
        "}\n",
        "\n",
        "/*\n",
        " *  Kernel that flips the given image horizontally\n",
        " *  each thread only flips a single pixel (R,G,B)\n",
        " */\n",
        "__global__ void HflipGPU(pel *ImgDst, pel *ImgSrc, uint width) {\n",
        "\t\n",
        "\t// TODO\n",
        "\t\n",
        "}\n",
        "\n",
        "/*\n",
        " *  Read a 24-bit/pixel BMP file into a 1D linear array.\n",
        " *  Allocate memory to store the 1D image and return its pointer\n",
        " */\n",
        "pel *ReadBMPlin(char* fn) {\n",
        "\tstatic pel *Img;\n",
        "\tFILE* f = fopen(fn, \"rb\");\n",
        "\tif (f == NULL) {\n",
        "\t\tprintf(\"\\n\\n%s NOT FOUND\\n\\n\", fn);\n",
        "\t\texit(EXIT_FAILURE);\n",
        "\t}\n",
        "\n",
        "\tpel HeaderInfo[54];\n",
        "\tsize_t nByte = fread(HeaderInfo, sizeof(pel), 54, f); // read the 54-byte header\n",
        "\t// extract image height and width from header\n",
        "\tint width = *(int*) &HeaderInfo[18];\n",
        "\timg.width = width;\n",
        "\tint height = *(int*) &HeaderInfo[22];\n",
        "\timg.height = height;\n",
        "\tint RowBytes = (width * 3 + 3) & (~3);  // row is multiple of 4 pixel\n",
        "\timg.rowByte = RowBytes;\n",
        "\t//save header for re-use\n",
        "\tmemcpy(img.headInfo, HeaderInfo, 54);\n",
        "\tprintf(\"\\n Input File name: %5s  (%d x %d)   File Size=%lu\", fn, img.width,\n",
        "\t\t\timg.height, IMAGESIZE);\n",
        "\t// allocate memory to store the main image (1 Dimensional array)\n",
        "\tImg = (pel *) malloc(IMAGESIZE);\n",
        "\tif (Img == NULL)\n",
        "\t\treturn Img;      // Cannot allocate memory\n",
        "\t// read the image from disk\n",
        "\tsize_t out = fread(Img, sizeof(pel), IMAGESIZE, f);\n",
        "\tfclose(f);\n",
        "\treturn Img;\n",
        "}\n",
        "\n",
        "/*\n",
        " *  Write the 1D linear-memory stored image into file\n",
        " */\n",
        "void WriteBMPlin(pel *Img, char* fn) {\n",
        "\tFILE* f = fopen(fn, \"wb\");\n",
        "\tif (f == NULL) {\n",
        "\t\tprintf(\"\\n\\nFILE CREATION ERROR: %s\\n\\n\", fn);\n",
        "\t\texit(1);\n",
        "\t}\n",
        "\t//write header\n",
        "\tfwrite(img.headInfo, sizeof(pel), 54, f);\n",
        "\t//write data\n",
        "\tfwrite(Img, sizeof(pel), IMAGESIZE, f);\n",
        "\tprintf(\"\\nOutput File name: %5s  (%u x %u)   File Size=%lu\", fn, img.width,\n",
        "\t\t\timg.height, IMAGESIZE);\n",
        "\tfclose(f);\n",
        "}\n",
        "\n",
        "/*\n",
        " * MAIN\n",
        " */\n",
        "int main(int argc, char **argv) {\n",
        "\tchar flip = 'V';\n",
        "\tuint dimBlock = 256, dimGrid;\n",
        "\tpel *imgSrc, *imgDst;\t\t // Where images are stored in CPU\n",
        "\tpel *imgSrcGPU, *imgDstGPU;\t // Where images are stored in GPU\n",
        "\n",
        "\tif (argc > 4) {\n",
        "\t\tdimBlock = atoi(argv[4]);\n",
        "\t\tflip = argv[3][0];\n",
        "\t}\n",
        "\telse if (argc > 3) {\n",
        "\t\tflip = argv[3][0];\n",
        "\t}\n",
        "\telse if (argc < 3) {\n",
        "\t\tprintf(\"\\n\\nUsage:   imflipGPU InputFilename OutputFilename [V/H] [dimBlock]\");\n",
        "\t\texit(EXIT_FAILURE);\n",
        "\t}\n",
        "\tif ((flip != 'V') && (flip != 'H')) {\n",
        "\t\tprintf(\"Invalid flip option '%c'. Must be 'V','H'... \\n\",flip);\n",
        "\t\texit(EXIT_FAILURE);\n",
        "\t}\n",
        "\n",
        "\t// Create CPU memory to store the input and output images\n",
        "\timgSrc = ReadBMPlin(argv[1]); // Read the input image if memory can be allocated\n",
        "\tif (imgSrc == NULL) {\n",
        "\t\tprintf(\"Cannot allocate memory for the input image...\\n\");\n",
        "\t\texit(EXIT_FAILURE);\n",
        "\t}\n",
        "\timgDst = (pel *) malloc(IMAGESIZE);\n",
        "\tif (imgDst == NULL) {\n",
        "\t\tfree(imgSrc);\n",
        "\t\tprintf(\"Cannot allocate memory for the input image...\\n\");\n",
        "\t\texit(EXIT_FAILURE);\n",
        "\t}\n",
        "\n",
        "\t// Allocate GPU buffer for the input and output images\n",
        "\tCHECK(cudaMalloc((void**) &imgSrcGPU, IMAGESIZE));\n",
        "\tCHECK(cudaMalloc((void**) &imgDstGPU, IMAGESIZE));\n",
        "\n",
        "\t// Copy input vectors from host memory to GPU buffers.\n",
        "\tCHECK(cudaMemcpy(imgSrcGPU, imgSrc, IMAGESIZE, cudaMemcpyHostToDevice));\n",
        "\n",
        "\t// invoke kernels (define grid and block sizes)\n",
        "\tint rowBlock = (WIDTH + dimBlock - 1) / dimBlock;\n",
        "\tdimGrid = (HEIGHT/2) * rowBlock;\t//AAA il diviso due lo abbiamo aggiunto noi\n",
        "\n",
        "\tdouble start = seconds();   // start time\n",
        "\n",
        "\tswitch (flip) {\n",
        "\tcase 'H':\n",
        "\t\tHflipGPU<<<dimGrid, dimBlock>>>(imgDstGPU, imgSrcGPU, WIDTH);\n",
        "\t\tbreak;\n",
        "\tcase 'V':\n",
        "\t\tVflipGPU<<<dimGrid, dimBlock>>>(imgDstGPU, imgSrcGPU, WIDTH, HEIGHT);\n",
        "\t\tbreak;\n",
        "\t}\n",
        "\t// cudaDeviceSynchronize waits for the kernel to finish, and returns\n",
        "\t// any errors encountered during the launch.\n",
        "\tCHECK(cudaDeviceSynchronize());\n",
        "\n",
        "\tdouble stop = seconds();   // elapsed time\n",
        "\n",
        "\t// Copy output (results) from GPU buffer to host (CPU) memory.\n",
        "\tCHECK(cudaMemcpy(imgDst, imgDstGPU, IMAGESIZE, cudaMemcpyDeviceToHost));\n",
        "\n",
        "\t// Write the flipped image back to disk\n",
        "\tWriteBMPlin(imgDst, argv[2]);\n",
        "\n",
        "\tprintf(\"\\nKernel elapsed time %f sec \\n\\n\", stop - start);\n",
        "\n",
        "\t// Deallocate CPU, GPU memory and destroy events.\n",
        "\tcudaFree(imgSrcGPU);\n",
        "\tcudaFree(imgDstGPU);\n",
        "\n",
        "\t// cudaDeviceReset must be called before exiting in order for profiling and\n",
        "\t// tracing tools spel as Parallel Nsight and Visual Profiler to show complete traces.\n",
        "\tcudaError_t\tcudaStatus = cudaDeviceReset();\n",
        "\tif (cudaStatus != cudaSuccess) {\n",
        "\t\tfprintf(stderr, \"cudaDeviceReset failed!\");\n",
        "\t\tfree(imgSrc);\n",
        "\t\tfree(imgDst);\n",
        "\t\texit(EXIT_FAILURE);\n",
        "\t}\n",
        "\tfree(imgSrc);\n",
        "\tfree(imgDst);\n",
        "\treturn (EXIT_SUCCESS);\n",
        "}\n",
        "\n"
      ],
      "execution_count": null,
      "outputs": []
    },
    {
      "cell_type": "code",
      "metadata": {
        "id": "I7XGTIu9DonC"
      },
      "source": [
        "!nvcc src/ImgFlipCUDA.cu -arch=sm_37 -o imfpliGPU"
      ],
      "execution_count": null,
      "outputs": []
    },
    {
      "cell_type": "code",
      "metadata": {
        "id": "EvgkpB24VfZe"
      },
      "source": [
        "!./imfpliGPU /content/dog.bmp dog_v.bmp V"
      ],
      "execution_count": null,
      "outputs": []
    },
    {
      "cell_type": "markdown",
      "source": [
        "# 🔴 TODO"
      ],
      "metadata": {
        "id": "ePkWn1Pb0PwY"
      }
    },
    {
      "cell_type": "markdown",
      "source": [
        "Individuare la grid che dà la prestazione migliore in termine di tempo impiegato.\n",
        "\n",
        "```\n",
        "best grid = (#blocks, #threads) \n",
        "```"
      ],
      "metadata": {
        "id": "oUTOFm7t1RCi"
      }
    }
  ]
}